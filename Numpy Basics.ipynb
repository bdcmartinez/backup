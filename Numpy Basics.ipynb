{
 "cells": [
  {
   "cell_type": "code",
   "execution_count": 1,
   "id": "88ad79b5-9b21-4d5f-adff-b576e5d6db56",
   "metadata": {},
   "outputs": [],
   "source": [
    "import numpy as np"
   ]
  },
  {
   "cell_type": "markdown",
   "id": "b5ebb078-5ab7-40a9-b54a-367b0fa3b4ce",
   "metadata": {},
   "source": [
    "### Creating Arrays"
   ]
  },
  {
   "cell_type": "code",
   "execution_count": 3,
   "id": "8b277f9e-cc74-44a1-a54e-41068b9e5a26",
   "metadata": {},
   "outputs": [
    {
     "data": {
      "text/plain": [
       "array([1, 2, 3, 4, 5, 6])"
      ]
     },
     "execution_count": 3,
     "metadata": {},
     "output_type": "execute_result"
    }
   ],
   "source": [
    "np.array([1,2,3,4,5,6])"
   ]
  },
  {
   "cell_type": "code",
   "execution_count": 8,
   "id": "2665b072-c0b2-428a-b29e-b58dce94b27f",
   "metadata": {},
   "outputs": [
    {
     "data": {
      "text/plain": [
       "array([0., 0., 0., 0.])"
      ]
     },
     "execution_count": 8,
     "metadata": {},
     "output_type": "execute_result"
    }
   ],
   "source": [
    "np.zeros((2,3))\n",
    "np.zeros(4)"
   ]
  },
  {
   "cell_type": "code",
   "execution_count": 10,
   "id": "223f857e-734b-4b92-bf4c-cebf16f78eac",
   "metadata": {},
   "outputs": [
    {
     "data": {
      "text/plain": [
       "array([1., 1., 1., 1., 1., 1., 1., 1., 1., 1., 1., 1., 1., 1., 1., 1., 1.,\n",
       "       1., 1., 1., 1., 1., 1., 1., 1., 1., 1., 1., 1., 1., 1., 1., 1., 1.,\n",
       "       1., 1., 1., 1., 1., 1., 1., 1., 1., 1., 1., 1., 1., 1., 1., 1., 1.,\n",
       "       1., 1., 1., 1., 1., 1., 1., 1., 1., 1., 1., 1., 1., 1., 1., 1., 1.,\n",
       "       1., 1., 1., 1., 1., 1., 1., 1., 1., 1., 1., 1., 1., 1., 1., 1., 1.,\n",
       "       1., 1., 1., 1., 1., 1., 1., 1., 1., 1., 1., 1., 1., 1., 1.])"
      ]
     },
     "execution_count": 10,
     "metadata": {},
     "output_type": "execute_result"
    }
   ],
   "source": [
    "np.ones((3,3))\n",
    "np.ones(100)"
   ]
  },
  {
   "cell_type": "code",
   "execution_count": 11,
   "id": "3377c2f1-d3fe-4461-aed7-b66d83c09c86",
   "metadata": {},
   "outputs": [
    {
     "data": {
      "text/plain": [
       "array([3, 3, 3, 3, 3, 3, 3, 3, 3, 3])"
      ]
     },
     "execution_count": 11,
     "metadata": {},
     "output_type": "execute_result"
    }
   ],
   "source": [
    "np.full(10,3)"
   ]
  },
  {
   "cell_type": "code",
   "execution_count": 13,
   "id": "054f5114-f898-48a4-9c0d-91ea13daff7d",
   "metadata": {},
   "outputs": [
    {
     "data": {
      "text/plain": [
       "array([[1., 0., 0., 0., 0., 0., 0., 0., 0., 0.],\n",
       "       [0., 1., 0., 0., 0., 0., 0., 0., 0., 0.],\n",
       "       [0., 0., 1., 0., 0., 0., 0., 0., 0., 0.],\n",
       "       [0., 0., 0., 1., 0., 0., 0., 0., 0., 0.],\n",
       "       [0., 0., 0., 0., 1., 0., 0., 0., 0., 0.],\n",
       "       [0., 0., 0., 0., 0., 1., 0., 0., 0., 0.],\n",
       "       [0., 0., 0., 0., 0., 0., 1., 0., 0., 0.],\n",
       "       [0., 0., 0., 0., 0., 0., 0., 1., 0., 0.],\n",
       "       [0., 0., 0., 0., 0., 0., 0., 0., 1., 0.],\n",
       "       [0., 0., 0., 0., 0., 0., 0., 0., 0., 1.]])"
      ]
     },
     "execution_count": 13,
     "metadata": {},
     "output_type": "execute_result"
    }
   ],
   "source": [
    "np.eye(10)"
   ]
  },
  {
   "cell_type": "code",
   "execution_count": 14,
   "id": "e73cbe5f-a1e0-4b24-8ded-5b216c7e0034",
   "metadata": {},
   "outputs": [
    {
     "data": {
      "text/plain": [
       "array([0, 2, 4, 6, 8])"
      ]
     },
     "execution_count": 14,
     "metadata": {},
     "output_type": "execute_result"
    }
   ],
   "source": [
    "np.arange(0,10,2)"
   ]
  },
  {
   "cell_type": "code",
   "execution_count": 16,
   "id": "86216622-5e64-4388-8ec5-50995f5a3a8c",
   "metadata": {},
   "outputs": [
    {
     "data": {
      "text/plain": [
       "array([0.        , 0.02040816, 0.04081633, 0.06122449, 0.08163265,\n",
       "       0.10204082, 0.12244898, 0.14285714, 0.16326531, 0.18367347,\n",
       "       0.20408163, 0.2244898 , 0.24489796, 0.26530612, 0.28571429,\n",
       "       0.30612245, 0.32653061, 0.34693878, 0.36734694, 0.3877551 ,\n",
       "       0.40816327, 0.42857143, 0.44897959, 0.46938776, 0.48979592,\n",
       "       0.51020408, 0.53061224, 0.55102041, 0.57142857, 0.59183673,\n",
       "       0.6122449 , 0.63265306, 0.65306122, 0.67346939, 0.69387755,\n",
       "       0.71428571, 0.73469388, 0.75510204, 0.7755102 , 0.79591837,\n",
       "       0.81632653, 0.83673469, 0.85714286, 0.87755102, 0.89795918,\n",
       "       0.91836735, 0.93877551, 0.95918367, 0.97959184, 1.        ])"
      ]
     },
     "execution_count": 16,
     "metadata": {},
     "output_type": "execute_result"
    }
   ],
   "source": [
    "np.linspace(0,1,50)"
   ]
  },
  {
   "cell_type": "markdown",
   "id": "dc88dc11-7d32-4c55-8138-cd14818a7fc5",
   "metadata": {},
   "source": [
    "### Array properties"
   ]
  },
  {
   "cell_type": "code",
   "execution_count": 20,
   "id": "c873941e-adb8-4816-826c-27840dc1b426",
   "metadata": {},
   "outputs": [],
   "source": [
    "a = np.ones(20)"
   ]
  },
  {
   "cell_type": "code",
   "execution_count": 21,
   "id": "61aa9247-aba6-4466-bc2d-d67118ad0e6a",
   "metadata": {},
   "outputs": [
    {
     "data": {
      "text/plain": [
       "(20,)"
      ]
     },
     "execution_count": 21,
     "metadata": {},
     "output_type": "execute_result"
    }
   ],
   "source": [
    "a.shape"
   ]
  },
  {
   "cell_type": "code",
   "execution_count": 23,
   "id": "f3027d94-458a-4f3c-b767-e912bbffa62d",
   "metadata": {},
   "outputs": [
    {
     "data": {
      "text/plain": [
       "1"
      ]
     },
     "execution_count": 23,
     "metadata": {},
     "output_type": "execute_result"
    }
   ],
   "source": [
    "a.ndim #number of dimensions"
   ]
  },
  {
   "cell_type": "code",
   "execution_count": 25,
   "id": "b1c6e41b-b1ab-4e33-b5eb-3a1bde838b27",
   "metadata": {},
   "outputs": [
    {
     "data": {
      "text/plain": [
       "20"
      ]
     },
     "execution_count": 25,
     "metadata": {},
     "output_type": "execute_result"
    }
   ],
   "source": [
    "a.size #total number of elementos"
   ]
  },
  {
   "cell_type": "code",
   "execution_count": 26,
   "id": "d18479ae-8035-4177-9657-1d0ec13405a2",
   "metadata": {},
   "outputs": [
    {
     "data": {
      "text/plain": [
       "dtype('float64')"
      ]
     },
     "execution_count": 26,
     "metadata": {},
     "output_type": "execute_result"
    }
   ],
   "source": [
    "a.dtype"
   ]
  },
  {
   "cell_type": "markdown",
   "id": "732dcc1f-e968-4237-bc5a-d75bffc25a81",
   "metadata": {},
   "source": [
    "### Reshaping & Flattening"
   ]
  },
  {
   "cell_type": "code",
   "execution_count": 29,
   "id": "a90f1147-621c-45d2-a289-fab7181fad18",
   "metadata": {},
   "outputs": [],
   "source": [
    "# no le entiendi a esta parte xd "
   ]
  },
  {
   "cell_type": "markdown",
   "id": "67123439-df72-428a-ae71-8316f57e83e5",
   "metadata": {},
   "source": [
    "### Indexing & Slicing"
   ]
  },
  {
   "cell_type": "code",
   "execution_count": 34,
   "id": "283fbfba-5858-492d-87a0-c6678aaab578",
   "metadata": {},
   "outputs": [
    {
     "data": {
      "text/plain": [
       "(array([2.71828183, 2.71828183, 2.71828183, 2.71828183, 2.71828183,\n",
       "        2.71828183, 2.71828183, 2.71828183, 2.71828183, 2.71828183]),\n",
       " array([0., 0., 0., 0., 0., 0., 0., 0., 0., 0.]),\n",
       " array([1., 1., 1., 1., 1., 1., 1., 1., 1., 1.]))"
      ]
     },
     "execution_count": 34,
     "metadata": {},
     "output_type": "execute_result"
    }
   ],
   "source": [
    "a = np.ones(10)\n",
    "b = np.full(10,8)\n",
    "\n",
    "a + b                               # Element-wise addition\n",
    "a * b                               # Element-wise multiplication\n",
    "np.sum(a), np.mean(a), np.std(a)   # Aggregations\n",
    "np.max(a), np.min(a)\n",
    "np.exp(a), np.log(a), np.sqrt(a)\n"
   ]
  },
  {
   "cell_type": "code",
   "execution_count": 35,
   "id": "b83ed62b-acbf-4e60-b6ef-823fdd572c83",
   "metadata": {},
   "outputs": [
    {
     "data": {
      "text/plain": [
       "80.0"
      ]
     },
     "execution_count": 35,
     "metadata": {},
     "output_type": "execute_result"
    }
   ],
   "source": [
    "np.dot(a,b)"
   ]
  },
  {
   "cell_type": "code",
   "execution_count": 36,
   "id": "87664085-3d4b-4636-8f6f-1174fd694814",
   "metadata": {},
   "outputs": [
    {
     "data": {
      "text/plain": [
       "10.0"
      ]
     },
     "execution_count": 36,
     "metadata": {},
     "output_type": "execute_result"
    }
   ],
   "source": [
    "np.sum(a)"
   ]
  },
  {
   "cell_type": "code",
   "execution_count": 37,
   "id": "19168b76-b8e0-48d7-b9b2-bc2a8e97cdb7",
   "metadata": {},
   "outputs": [
    {
     "data": {
      "text/plain": [
       "1.0"
      ]
     },
     "execution_count": 37,
     "metadata": {},
     "output_type": "execute_result"
    }
   ],
   "source": [
    "np.mean(a)"
   ]
  },
  {
   "cell_type": "code",
   "execution_count": 38,
   "id": "382395ad-0e93-47e8-8236-1a938ffc2a35",
   "metadata": {},
   "outputs": [
    {
     "data": {
      "text/plain": [
       "0.0"
      ]
     },
     "execution_count": 38,
     "metadata": {},
     "output_type": "execute_result"
    }
   ],
   "source": [
    "np.std(a)"
   ]
  },
  {
   "cell_type": "code",
   "execution_count": 39,
   "id": "7f9e3cb0-9f29-4b6f-b96c-a6069a99311e",
   "metadata": {},
   "outputs": [
    {
     "data": {
      "text/plain": [
       "1.0"
      ]
     },
     "execution_count": 39,
     "metadata": {},
     "output_type": "execute_result"
    }
   ],
   "source": [
    "np.max(a)"
   ]
  },
  {
   "cell_type": "code",
   "execution_count": 41,
   "id": "bfad1781-630b-4ebe-ab76-aa9a458e5ca3",
   "metadata": {},
   "outputs": [
    {
     "data": {
      "text/plain": [
       "1.0"
      ]
     },
     "execution_count": 41,
     "metadata": {},
     "output_type": "execute_result"
    }
   ],
   "source": [
    "np.min(a)"
   ]
  },
  {
   "cell_type": "code",
   "execution_count": 42,
   "id": "aeddba0f-3f51-49d4-a53f-bafe969b26d7",
   "metadata": {},
   "outputs": [
    {
     "data": {
      "text/plain": [
       "array([2.71828183, 2.71828183, 2.71828183, 2.71828183, 2.71828183,\n",
       "       2.71828183, 2.71828183, 2.71828183, 2.71828183, 2.71828183])"
      ]
     },
     "execution_count": 42,
     "metadata": {},
     "output_type": "execute_result"
    }
   ],
   "source": [
    "np.exp(a)"
   ]
  },
  {
   "cell_type": "code",
   "execution_count": 43,
   "id": "0ff60ee0-6a03-47fc-9603-0ffec0656bf6",
   "metadata": {},
   "outputs": [
    {
     "data": {
      "text/plain": [
       "array([0., 0., 0., 0., 0., 0., 0., 0., 0., 0.])"
      ]
     },
     "execution_count": 43,
     "metadata": {},
     "output_type": "execute_result"
    }
   ],
   "source": [
    "np.log(a)"
   ]
  },
  {
   "cell_type": "code",
   "execution_count": 52,
   "id": "27e3f9d8-b23e-47b2-ab04-f1cbf247d6ed",
   "metadata": {},
   "outputs": [
    {
     "data": {
      "text/plain": [
       "array([2.82842712, 2.82842712, 2.82842712, 2.82842712, 2.82842712,\n",
       "       2.82842712, 2.82842712, 2.82842712, 2.82842712, 2.82842712])"
      ]
     },
     "execution_count": 52,
     "metadata": {},
     "output_type": "execute_result"
    }
   ],
   "source": [
    "np.sqrt(b)"
   ]
  },
  {
   "cell_type": "markdown",
   "id": "a26c8bcf-9be0-4a05-9c75-aa7d28450bf4",
   "metadata": {},
   "source": [
    "### Logical operations"
   ]
  },
  {
   "cell_type": "code",
   "execution_count": 48,
   "id": "06227bfd-ea85-41c1-9ff1-a142e671f611",
   "metadata": {},
   "outputs": [
    {
     "data": {
      "text/plain": [
       "array([ True,  True,  True,  True,  True,  True,  True,  True,  True,\n",
       "        True])"
      ]
     },
     "execution_count": 48,
     "metadata": {},
     "output_type": "execute_result"
    }
   ],
   "source": [
    "a > 0 #it returns a boolean array"
   ]
  },
  {
   "cell_type": "code",
   "execution_count": 51,
   "id": "fd217c3f-7312-4f50-9a13-c15fa7c3a571",
   "metadata": {},
   "outputs": [
    {
     "data": {
      "text/plain": [
       "array([1, 1, 1, 1, 1, 1, 1, 1, 1, 1])"
      ]
     },
     "execution_count": 51,
     "metadata": {},
     "output_type": "execute_result"
    }
   ],
   "source": [
    "np.where(a>0,1,0) #Condition, if True:1 else:0"
   ]
  },
  {
   "cell_type": "markdown",
   "id": "cddb57d6-1c2a-46f9-964a-c9b2ea9752ce",
   "metadata": {},
   "source": [
    "### Distributions with Numpy"
   ]
  },
  {
   "cell_type": "code",
   "execution_count": 53,
   "id": "62f3a14b-57e0-4b8b-a093-368df57d4079",
   "metadata": {},
   "outputs": [],
   "source": [
    "np.random.seed(42)"
   ]
  },
  {
   "cell_type": "code",
   "execution_count": 54,
   "id": "f232d07e-179b-4895-9f2e-bd45a9632953",
   "metadata": {},
   "outputs": [
    {
     "data": {
      "text/plain": [
       "array([0.37454012, 0.95071431, 0.73199394, 0.59865848, 0.15601864,\n",
       "       0.15599452, 0.05808361, 0.86617615, 0.60111501, 0.70807258])"
      ]
     },
     "execution_count": 54,
     "metadata": {},
     "output_type": "execute_result"
    }
   ],
   "source": [
    "np.random.uniform(low=0.0, high=1.0, size=10)"
   ]
  },
  {
   "cell_type": "code",
   "execution_count": 56,
   "id": "d5acc6a0-2ecd-42b4-97fd-94641a6310f4",
   "metadata": {},
   "outputs": [
    {
     "data": {
      "text/plain": [
       "array([ 1.04955272, -0.53523521,  1.31739407,  0.1975996 ,  2.07526087,\n",
       "       -0.68918782,  1.7359638 ,  0.19791078, -0.651418  , -0.48388583])"
      ]
     },
     "execution_count": 56,
     "metadata": {},
     "output_type": "execute_result"
    }
   ],
   "source": [
    "np.random.normal(loc=0.0, scale=1.0, size=10)"
   ]
  },
  {
   "cell_type": "code",
   "execution_count": 57,
   "id": "db03246a-c465-4aa1-9e2a-b2b84aa8db11",
   "metadata": {},
   "outputs": [
    {
     "data": {
      "text/plain": [
       "array([-0.32034731,  0.42416595,  0.52283549, -0.5737    , -0.02435459,\n",
       "        2.14227036,  1.72754317,  0.43632367,  0.03800348,  0.12003133])"
      ]
     },
     "execution_count": 57,
     "metadata": {},
     "output_type": "execute_result"
    }
   ],
   "source": [
    "np.random.normal(loc=0.0, scale=1.0, size=10)"
   ]
  },
  {
   "cell_type": "code",
   "execution_count": 58,
   "id": "77f89d35-69f2-4ece-8cd5-9a049e89b209",
   "metadata": {},
   "outputs": [
    {
     "data": {
      "text/plain": [
       "array([2, 0, 5, 3, 7, 3, 3, 3, 4, 4])"
      ]
     },
     "execution_count": 58,
     "metadata": {},
     "output_type": "execute_result"
    }
   ],
   "source": [
    "np.random.poisson(lam=3.0, size=10)"
   ]
  },
  {
   "cell_type": "code",
   "execution_count": 59,
   "id": "152d8338-e8d8-48ff-9810-7028a18903ea",
   "metadata": {},
   "outputs": [
    {
     "data": {
      "text/plain": [
       "array([3, 5, 8, 4, 6, 4, 6, 3, 8, 5])"
      ]
     },
     "execution_count": 59,
     "metadata": {},
     "output_type": "execute_result"
    }
   ],
   "source": [
    "np.random.binomial(n=10, p=0.5, size=10)"
   ]
  },
  {
   "cell_type": "code",
   "execution_count": 60,
   "id": "fd2a61f5-4cf9-41d5-b597-9429fc3be50e",
   "metadata": {},
   "outputs": [
    {
     "data": {
      "text/plain": [
       "array([0.53850709, 0.15267545, 0.37207588, 1.46699669, 0.82197016,\n",
       "       3.53081977, 1.12735438, 0.57193847, 1.92019783, 2.45364521])"
      ]
     },
     "execution_count": 60,
     "metadata": {},
     "output_type": "execute_result"
    }
   ],
   "source": [
    "np.random.exponential(scale=2.0,size=10)"
   ]
  },
  {
   "cell_type": "code",
   "execution_count": 62,
   "id": "7a72131a-2b0e-463c-a681-30fa9540dd36",
   "metadata": {},
   "outputs": [
    {
     "data": {
      "text/plain": [
       "array([[ 1.20053166,  0.14035987],\n",
       "       [-1.9670697 , -1.11718646],\n",
       "       [-0.18584575,  0.30999898],\n",
       "       [-0.05658849,  1.21897079],\n",
       "       [-1.95110186,  0.14358794],\n",
       "       [-1.81797923,  0.7597123 ],\n",
       "       [-0.09445871,  0.41960997],\n",
       "       [-0.86388296,  1.27946493],\n",
       "       [ 1.04172466,  0.5835443 ],\n",
       "       [-0.12951725,  0.57985729]])"
      ]
     },
     "execution_count": 62,
     "metadata": {},
     "output_type": "execute_result"
    }
   ],
   "source": [
    "mean = [0,0]\n",
    "cov = [[1,0],[0,1]]\n",
    "np.random.multivariate_normal(mean, cov, size = 10)"
   ]
  },
  {
   "cell_type": "code",
   "execution_count": 63,
   "id": "14b9d5a8-bbf8-416a-ab61-7dc61e7f69c0",
   "metadata": {},
   "outputs": [
    {
     "data": {
      "text/plain": [
       "array([10, 76,  2,  8, 59, 75, 86, 13, 96, 17])"
      ]
     },
     "execution_count": 63,
     "metadata": {},
     "output_type": "execute_result"
    }
   ],
   "source": [
    "np.random.randint(low=0, high=100,size=10) #random integers"
   ]
  },
  {
   "cell_type": "markdown",
   "id": "f6f31d39-de71-4198-ad6c-bd5a78e87e48",
   "metadata": {},
   "source": [
    "### Simulating & Visualizing Distributions"
   ]
  },
  {
   "cell_type": "code",
   "execution_count": 65,
   "id": "f4ac67a4-35b7-42af-aa67-fd1bcff8fe7c",
   "metadata": {},
   "outputs": [
    {
     "data": {
      "image/png": "[encoded data removed]",
      "text/plain": [
       "<Figure size 1400x1000 with 5 Axes>"
      ]
     },
     "metadata": {},
     "output_type": "display_data"
    }
   ],
   "source": [
    "import numpy as np\n",
    "import matplotlib.pyplot as plt\n",
    "\n",
    "# Reproducibility\n",
    "np.random.seed(42)\n",
    "\n",
    "# Parameters\n",
    "size = 1_000_000\n",
    "\n",
    "# Generate distributions\n",
    "uniform_data = np.random.uniform(0, 10, size)\n",
    "normal_data = np.random.normal(0, 1, size)\n",
    "poisson_data = np.random.poisson(5, size)\n",
    "binomial_data = np.random.binomial(n=10, p=0.5, size=size)\n",
    "exponential_data = np.random.exponential(scale=1, size=size)\n",
    "\n",
    "# Plotting\n",
    "plt.figure(figsize=(14, 10))\n",
    "\n",
    "plt.subplot(2, 3, 1)\n",
    "plt.hist(uniform_data, bins=30, color='skyblue', edgecolor='black')\n",
    "plt.title(\"Uniform Distribution\")\n",
    "\n",
    "plt.subplot(2, 3, 2)\n",
    "plt.hist(normal_data, bins=30, color='salmon', edgecolor='black')\n",
    "plt.title(\"Normal Distribution\")\n",
    "\n",
    "plt.subplot(2, 3, 3)\n",
    "plt.hist(poisson_data, bins=30, color='lightgreen', edgecolor='black')\n",
    "plt.title(\"Poisson Distribution\")\n",
    "\n",
    "plt.subplot(2, 3, 4)\n",
    "plt.hist(binomial_data, bins=30, color='plum', edgecolor='black')\n",
    "plt.title(\"Binomial Distribution\")\n",
    "\n",
    "plt.subplot(2, 3, 5)\n",
    "plt.hist(exponential_data, bins=30, color='khaki', edgecolor='black')\n",
    "plt.title(\"Exponential Distribution\")\n",
    "\n",
    "plt.tight_layout()\n",
    "plt.show()\n"
   ]
  },
  {
   "cell_type": "code",
   "execution_count": null,
   "id": "4cbf4bac-1e20-4f0b-91e7-744c9943855b",
   "metadata": {},
   "outputs": [],
   "source": []
  },
  {
   "cell_type": "code",
   "execution_count": null,
   "id": "bcc21f7a-85d6-4dc7-aa4a-a69cbc0907f7",
   "metadata": {},
   "outputs": [],
   "source": []
  },
  {
   "cell_type": "code",
   "execution_count": null,
   "id": "32a5cb14-fcb0-499c-aa90-c68b2d91f865",
   "metadata": {},
   "outputs": [],
   "source": []
  },
  {
   "cell_type": "code",
   "execution_count": null,
   "id": "c8e8cfc6-32a6-4ef5-b010-6bc98f73b428",
   "metadata": {},
   "outputs": [],
   "source": []
  },
  {
   "cell_type": "code",
   "execution_count": null,
   "id": "5ff02861-aea3-46f5-86b5-ab38f234cdb3",
   "metadata": {},
   "outputs": [],
   "source": []
  },
  {
   "cell_type": "code",
   "execution_count": null,
   "id": "d5fba0df-c337-4f3e-906b-1405d4075b6d",
   "metadata": {},
   "outputs": [],
   "source": []
  }
 ],
 "metadata": {
  "kernelspec": {
   "display_name": "Python 3 (ipykernel)",
   "language": "python",
   "name": "python3"
  },
  "language_info": {
   "codemirror_mode": {
    "name": "ipython",
    "version": 3
   },
   "file_extension": ".py",
   "mimetype": "text/x-python",
   "name": "python",
   "nbconvert_exporter": "python",
   "pygments_lexer": "ipython3",
   "version": "3.11.7"
  }
 },
 "nbformat": 4,
 "nbformat_minor": 5
}
