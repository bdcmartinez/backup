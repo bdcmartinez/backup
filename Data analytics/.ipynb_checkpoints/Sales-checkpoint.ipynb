{
 "cells": [
  {
   "cell_type": "code",
   "execution_count": 2,
   "id": "5638fea4-312a-4ac0-9334-244038a631bd",
   "metadata": {},
   "outputs": [],
   "source": [
    "import pandas as pd\n",
    "import numpy as np\n",
    "from faker import Faker\n",
    "import random\n",
    "from datetime import datetime, timedelta"
   ]
  },
  {
   "cell_type": "code",
   "execution_count": 3,
   "id": "7e43d6ed-059d-4708-adca-1bd9433150c8",
   "metadata": {},
   "outputs": [
    {
     "name": "stderr",
     "output_type": "stream",
     "text": [
      "\n",
      "KeyboardInterrupt\n",
      "\n"
     ]
    }
   ],
   "source": [
    "# Configuración\n",
    "fake = Faker()\n",
    "np.random.seed(42)\n",
    "random.seed(42)\n",
    "\n",
    "# Parámetros\n",
    "num_customers = 14645\n",
    "num_days = 1800\n",
    "start_date = datetime(2020, 1, 1)\n",
    "\n",
    "# Estados (regiones) con distribución desigual\n",
    "regions = {\n",
    "    \"California\": 1.3,\n",
    "    \"Texas\": 1.2,\n",
    "    \"New York\": 1.0,\n",
    "    \"Florida\": 1.1,\n",
    "    \"Wisconsin\": 0.8,\n",
    "    \"Colorado\": 0.6,\n",
    "    \"Alabama\": 0.5\n",
    "}\n",
    "\n",
    "# Métodos de pago\n",
    "payment_methods = [\"Cash\", \"Credit Card\", \"Debit Card\", \"Mobile App\"]\n",
    "\n",
    "# Categorías y productos\n",
    "categories = {\n",
    "    \"Beverages\": [\"Apple Juice\", \"Orange Soda\", \"Iced Tea\", \"Mineral Water\"],\n",
    "    \"Bakery\": [\"Bread Loaf\", \"Croissant\", \"Muffin\", \"Bagel\"],\n",
    "    \"Deli\": [\"Chicken Wrap\", \"Ham Sandwich\", \"Turkey Roll\", \"Veggie Wrap\"],\n",
    "    \"Snacks\": [\"Potato Chips\", \"Granola Bar\", \"Chocolate Cookie\", \"Popcorn\"],\n",
    "    \"Dairy\": [\"Milk\", \"Cheese Block\", \"Yogurt\", \"Butter\"],\n",
    "    \"Frozen Foods\": [\"Frozen Pizza\", \"Ice Cream\", \"Frozen Vegetables\", \"Frozen Fries\"],\n",
    "    \"Produce\": [\"Banana\", \"Apple\", \"Carrot\", \"Lettuce\"],\n",
    "    \"Meat\": [\"Chicken Breast\", \"Ground Beef\", \"Pork Chops\", \"Bacon\"],\n",
    "    \"Seafood\": [\"Salmon Fillet\", \"Shrimp Pack\", \"Tuna Can\", \"Crab Meat\"],\n",
    "    \"Pantry\": [\"Pasta\", \"Rice\", \"Canned Beans\", \"Tomato Sauce\"],\n",
    "    \"Condiments\": [\"Ketchup\", \"Mustard\", \"Soy Sauce\", \"Mayonnaise\"],\n",
    "    \"Cereal\": [\"Corn Flakes\", \"Granola\", \"Oats\", \"Choco Cereal\"],\n",
    "    \"Cleaning Supplies\": [\"Dish Soap\", \"Bleach\", \"Glass Cleaner\", \"Sponges\"],\n",
    "    \"Personal Care\": [\"Toothpaste\", \"Shampoo\", \"Soap\", \"Deodorant\"],\n",
    "    \"Baby Products\": [\"Diapers\", \"Baby Wipes\", \"Baby Lotion\", \"Formula\"],\n",
    "    \"Pet Supplies\": [\"Dog Food\", \"Cat Litter\", \"Pet Shampoo\", \"Treats\"],\n",
    "    \"Baking\": [\"Flour\", \"Sugar\", \"Yeast\", \"Baking Powder\"],\n",
    "    \"Breakfast\": [\"Pancake Mix\", \"Maple Syrup\", \"Instant Coffee\", \"Tea Bags\"],\n",
    "    \"International\": [\"Tortillas\", \"Noodles\", \"Salsa Verde\", \"Curry Paste\"],\n",
    "    \"Health\": [\"Vitamins\", \"Protein Bar\", \"Electrolyte Drink\", \"Energy Gel\"]\n",
    "}\n",
    "\n",
    "# Productos\n",
    "products = []\n",
    "product_id = 1\n",
    "for category, items in categories.items():\n",
    "    for item in items:\n",
    "        price = round(np.random.uniform(1.0, 5.0), 2)\n",
    "        products.append({\n",
    "            \"product_id\": product_id,\n",
    "            \"name\": item,\n",
    "            \"category\": category,\n",
    "            \"price\": price\n",
    "        })\n",
    "        product_id += 1\n",
    "df_products = pd.DataFrame(products)\n",
    "\n",
    "# Clientes\n",
    "customers = []\n",
    "for i in range(1, num_customers + 1):\n",
    "    region = random.choices(list(regions.keys()), weights=list(regions.values()), k=1)[0]\n",
    "    customers.append({\n",
    "        \"customer_id\": i,\n",
    "        \"name\": fake.name(),\n",
    "        \"region\": region,\n",
    "        \"customer_type\": random.choices([\"Regular\", \"New\", \"Loyal\"], weights=[0.5, 0.3, 0.2])[0]\n",
    "    })\n",
    "df_customers = pd.DataFrame(customers)\n",
    "\n",
    "# Ventas\n",
    "sales = []\n",
    "sale_id = 1\n",
    "store_id = 1\n",
    "\n",
    "for day in range(num_days):\n",
    "    date = start_date + timedelta(days=day)\n",
    "    for region, weight in regions.items():\n",
    "        growth_factor = 1 + (day / num_days) * 0.4\n",
    "        base_sales = int(np.random.poisson(lam=1456 * weight) * growth_factor)\n",
    "        if date.weekday() >= 5:\n",
    "            base_sales += np.random.randint(5, 15)\n",
    "\n",
    "        for _ in range(base_sales):\n",
    "            product = df_products.sample(1).iloc[0]\n",
    "            customer = df_customers[df_customers[\"region\"] == region].sample(1).iloc[0]\n",
    "            quantity = np.random.randint(1, 4)\n",
    "\n",
    "            # Ajustes según región\n",
    "            if region == \"Wisconsin\" and product[\"category\"] == \"Dairy\":\n",
    "                quantity += 1\n",
    "            if region == \"Florida\" and product[\"category\"] == \"Beverages\":\n",
    "                quantity += 1\n",
    "            if customer[\"customer_type\"] == \"Loyal\":\n",
    "                quantity += 1\n",
    "\n",
    "            payment_method = random.choices(\n",
    "                payment_methods,\n",
    "                weights=[0.2, 0.4, 0.2, 0.2] if customer[\"customer_type\"] == \"Loyal\" else [0.4, 0.3, 0.2, 0.1],\n",
    "                k=1\n",
    "            )[0]\n",
    "\n",
    "            sales.append({\n",
    "                \"sale_id\": sale_id,\n",
    "                \"product_id\": product[\"product_id\"],\n",
    "                \"customer_id\": customer[\"customer_id\"],\n",
    "                \"store_id\": store_id,\n",
    "                \"region\": region,\n",
    "                \"date\": date,\n",
    "                \"quantity\": quantity,\n",
    "                \"payment_method\": payment_method\n",
    "            })\n",
    "            sale_id += 1\n",
    "\n",
    "df_sales = pd.DataFrame(sales)\n",
    "df_sales = df_sales.merge(df_products[[\"product_id\", \"price\"]], on=\"product_id\")\n",
    "df_sales[\"total\"] = df_sales[\"quantity\"] * df_sales[\"price\"]\n",
    "\n",
    "# Guardar\n",
    "df_products.to_csv(\"products.csv\", index=False)\n",
    "df_customers.to_csv(\"customers.csv\", index=False)\n",
    "df_sales.to_csv(\"sales.csv\", index=False)\n",
    "\n",
    "print(\"✅ Archivos generados con regiones y métodos de pago: products.csv, customers.csv, sales.csv\")\n",
    "\n"
   ]
  },
  {
   "cell_type": "code",
   "execution_count": null,
   "id": "b2ff9848-74a5-4f0d-af3b-4564b43e1d93",
   "metadata": {},
   "outputs": [],
   "source": [
    "df_products = pd.read_csv('products.csv')\n",
    "df_customers = pd.read_csv('customers.csv')\n",
    "df_sales = pd.read_csv('sales.csv')"
   ]
  },
  {
   "cell_type": "code",
   "execution_count": null,
   "id": "205e05a3-eb56-4ddc-8440-650a51617e7e",
   "metadata": {},
   "outputs": [],
   "source": [
    "len(df_products)"
   ]
  },
  {
   "cell_type": "code",
   "execution_count": null,
   "id": "e453e494-d515-43e8-9b35-38405e9ccf7f",
   "metadata": {},
   "outputs": [],
   "source": [
    "len(df_customers)"
   ]
  },
  {
   "cell_type": "code",
   "execution_count": null,
   "id": "72ed8104-6c95-4dfb-8b9d-e9cd456ff1bc",
   "metadata": {},
   "outputs": [],
   "source": [
    "len(df_sales)"
   ]
  },
  {
   "cell_type": "code",
   "execution_count": null,
   "id": "ecd2e4b2-e16a-4daf-93a7-6f10002d4810",
   "metadata": {},
   "outputs": [],
   "source": [
    "df_sales"
   ]
  },
  {
   "cell_type": "code",
   "execution_count": null,
   "id": "2e9ef8d8-04f3-4196-b3b7-27d2d990a72a",
   "metadata": {},
   "outputs": [],
   "source": []
  }
 ],
 "metadata": {
  "kernelspec": {
   "display_name": "Python 3 (ipykernel)",
   "language": "python",
   "name": "python3"
  },
  "language_info": {
   "codemirror_mode": {
    "name": "ipython",
    "version": 3
   },
   "file_extension": ".py",
   "mimetype": "text/x-python",
   "name": "python",
   "nbconvert_exporter": "python",
   "pygments_lexer": "ipython3",
   "version": "3.11.7"
  }
 },
 "nbformat": 4,
 "nbformat_minor": 5
}
